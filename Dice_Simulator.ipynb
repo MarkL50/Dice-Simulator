{
  "nbformat": 4,
  "nbformat_minor": 0,
  "metadata": {
    "colab": {
      "name": "Dice-Simulator.ipynb",
      "provenance": [],
      "authorship_tag": "ABX9TyNNSJO1YU+whqtjS+i7ncQI",
      "include_colab_link": true
    },
    "kernelspec": {
      "name": "python3",
      "display_name": "Python 3"
    },
    "language_info": {
      "name": "python"
    }
  },
  "cells": [
    {
      "cell_type": "markdown",
      "metadata": {
        "id": "view-in-github",
        "colab_type": "text"
      },
      "source": [
        "<a href=\"https://colab.research.google.com/github/MarkL50/Dice-Simulator/blob/main/Dice_Simulator.ipynb\" target=\"_parent\"><img src=\"https://colab.research.google.com/assets/colab-badge.svg\" alt=\"Open In Colab\"/></a>"
      ]
    },
    {
      "cell_type": "code",
      "execution_count": null,
      "metadata": {
        "colab": {
          "base_uri": "https://localhost:8080/"
        },
        "id": "Wama5FaQsoHO",
        "outputId": "aee9dca4-bcab-469e-eed5-916e0d71e4da"
      },
      "outputs": [
        {
          "output_type": "stream",
          "name": "stdout",
          "text": [
            "--------\n",
            "|     O|\n",
            "|   O  |\n",
            "| O    |\n",
            "--------\n",
            "enter y to redo:  y\n",
            "--------\n",
            "| O   O|\n",
            "|      |\n",
            "| O   O|\n",
            "--------\n",
            "enter y to redo:  y\n",
            "--------\n",
            "|      |\n",
            "| O  O |\n",
            "|      |\n",
            "--------\n"
          ]
        }
      ],
      "source": [
        "import random\n",
        "\n",
        "z=\"y\"\n",
        "while z==\"y\":\n",
        "\n",
        "    number=random.randint(1,6)\n",
        "    if number==1:\n",
        "        print(\"--------\")\n",
        "        print(\"|      |\")\n",
        "        print(\"|   O  |\")\n",
        "        print(\"|      |\")\n",
        "        print(\"--------\")\n",
        "\n",
        "    if number==2:\n",
        "        print(\"--------\")\n",
        "        print(\"|      |\")\n",
        "        print(\"| O  O |\")\n",
        "        print(\"|      |\")\n",
        "        print(\"--------\")\n",
        "\n",
        "    if number == 3:\n",
        "        print(\"--------\")\n",
        "        print(\"|     O|\")\n",
        "        print(\"|   O  |\")\n",
        "        print(\"| O    |\")\n",
        "        print(\"--------\")\n",
        "\n",
        "    if number == 4:\n",
        "        print(\"--------\")\n",
        "        print(\"| O   O|\")\n",
        "        print(\"|      |\")\n",
        "        print(\"| O   O|\")\n",
        "        print(\"--------\")\n",
        "\n",
        "    if number == 5:\n",
        "        print(\"--------\")\n",
        "        print(\"| O   O|\")\n",
        "        print(\"|   O  |\")\n",
        "        print(\"| O   O|\")\n",
        "        print(\"--------\")\n",
        "\n",
        "    if number == 6:\n",
        "        print(\"--------\")\n",
        "        print(\"| O   O|\")\n",
        "        print(\"| O   O|\")\n",
        "        print(\"| O   O|\")\n",
        "        print(\"--------\")\n",
        "\n",
        "    z = input(\"enter y to redo:  \")"
      ]
    }
  ]
}